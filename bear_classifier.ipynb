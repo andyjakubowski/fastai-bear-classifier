{
 "cells": [
  {
   "cell_type": "code",
   "execution_count": 1,
   "metadata": {},
   "outputs": [],
   "source": [
    "import sys"
   ]
  },
  {
   "cell_type": "code",
   "execution_count": 2,
   "metadata": {},
   "outputs": [
    {
     "name": "stdout",
     "output_type": "stream",
     "text": [
      "/usr/local/opt/python@3.8/bin/python3.8\r\n"
     ]
    }
   ],
   "source": [
    "!which {sys.executable}"
   ]
  },
  {
   "cell_type": "code",
   "execution_count": 3,
   "metadata": {},
   "outputs": [
    {
     "name": "stdout",
     "output_type": "stream",
     "text": [
      "Requirement already satisfied: fastbook in /usr/local/lib/python3.8/site-packages (0.0.11)\n",
      "Requirement already satisfied: fastai in /usr/local/lib/python3.8/site-packages (2.0.13)\n",
      "Requirement already satisfied: graphviz in /usr/local/lib/python3.8/site-packages (0.14.1)\n",
      "Requirement already satisfied: voila in /usr/local/lib/python3.8/site-packages (0.2.3)\n",
      "Requirement already satisfied: nbdev>=0.2.38 in /usr/local/lib/python3.8/site-packages (from fastbook) (1.0.18)\n",
      "Requirement already satisfied: sentencepiece<0.1.90 in /usr/local/lib/python3.8/site-packages (from fastbook) (0.1.86)\n",
      "Requirement already satisfied: pandas in /usr/local/lib/python3.8/site-packages (from fastbook) (1.1.2)\n",
      "Requirement already satisfied: azure-cognitiveservices-search-imagesearch in /usr/local/lib/python3.8/site-packages (from fastbook) (2.0.0)\n",
      "Requirement already satisfied: pip in /Users/andy/Library/Python/3.8/lib/python/site-packages (from fastbook) (20.2.3)\n",
      "Requirement already satisfied: packaging in /usr/local/lib/python3.8/site-packages (from fastbook) (20.4)\n",
      "Requirement already satisfied: ipywidgets in /usr/local/lib/python3.8/site-packages (from fastbook) (7.5.1)\n",
      "Requirement already satisfied: scipy in /usr/local/lib/python3.8/site-packages (from fastai) (1.5.2)\n",
      "Requirement already satisfied: torch>=1.6.0 in /usr/local/lib/python3.8/site-packages (from fastai) (1.6.0)\n",
      "Requirement already satisfied: pyyaml in /usr/local/lib/python3.8/site-packages (from fastai) (5.3.1)\n",
      "Requirement already satisfied: pillow in /usr/local/lib/python3.8/site-packages (from fastai) (7.2.0)\n",
      "Requirement already satisfied: spacy in /usr/local/lib/python3.8/site-packages (from fastai) (2.3.2)\n",
      "Requirement already satisfied: fastcore>=1.0.5 in /usr/local/lib/python3.8/site-packages (from fastai) (1.0.14)\n",
      "Requirement already satisfied: torchvision>=0.7 in /usr/local/lib/python3.8/site-packages (from fastai) (0.7.0)\n",
      "Requirement already satisfied: scikit-learn in /usr/local/lib/python3.8/site-packages (from fastai) (0.23.2)\n",
      "Requirement already satisfied: fastprogress>=0.2.4 in /usr/local/lib/python3.8/site-packages (from fastai) (1.0.0)\n",
      "Requirement already satisfied: matplotlib in /usr/local/lib/python3.8/site-packages (from fastai) (3.3.2)\n",
      "Requirement already satisfied: requests in /usr/local/lib/python3.8/site-packages (from fastai) (2.24.0)\n",
      "Requirement already satisfied: jupyter-server<2.0.0,>=0.3.0 in /usr/local/lib/python3.8/site-packages (from voila) (1.0.1)\n",
      "Requirement already satisfied: jupyter-client<7,>=6.1.3 in /usr/local/lib/python3.8/site-packages (from voila) (6.1.7)\n",
      "Requirement already satisfied: nbclient<0.6,>=0.4.0 in /usr/local/lib/python3.8/site-packages (from voila) (0.5.0)\n",
      "Requirement already satisfied: nbconvert<7,>=6.0.0 in /usr/local/lib/python3.8/site-packages (from voila) (6.0.6)\n",
      "Requirement already satisfied: fastscript>=1.0.0 in /usr/local/lib/python3.8/site-packages (from nbdev>=0.2.38->fastbook) (1.0.0)\n",
      "Requirement already satisfied: ipykernel in /usr/local/lib/python3.8/site-packages (from nbdev>=0.2.38->fastbook) (5.3.4)\n",
      "Requirement already satisfied: nbformat>=4.4.0 in /usr/local/lib/python3.8/site-packages (from nbdev>=0.2.38->fastbook) (5.0.7)\n",
      "Requirement already satisfied: pytz>=2017.2 in /usr/local/lib/python3.8/site-packages (from pandas->fastbook) (2020.1)\n",
      "Requirement already satisfied: numpy>=1.15.4 in /usr/local/lib/python3.8/site-packages (from pandas->fastbook) (1.19.2)\n",
      "Requirement already satisfied: python-dateutil>=2.7.3 in /usr/local/lib/python3.8/site-packages (from pandas->fastbook) (2.8.1)\n",
      "Requirement already satisfied: msrestazure<2.0.0,>=0.4.32 in /usr/local/lib/python3.8/site-packages (from azure-cognitiveservices-search-imagesearch->fastbook) (0.6.4)\n",
      "Requirement already satisfied: azure-common~=1.1 in /usr/local/lib/python3.8/site-packages (from azure-cognitiveservices-search-imagesearch->fastbook) (1.1.25)\n",
      "Requirement already satisfied: msrest>=0.5.0 in /usr/local/lib/python3.8/site-packages (from azure-cognitiveservices-search-imagesearch->fastbook) (0.6.19)\n",
      "Requirement already satisfied: pyparsing>=2.0.2 in /usr/local/lib/python3.8/site-packages (from packaging->fastbook) (2.4.7)\n",
      "Requirement already satisfied: six in /usr/local/lib/python3.8/site-packages (from packaging->fastbook) (1.15.0)\n",
      "Requirement already satisfied: ipython>=4.0.0; python_version >= \"3.3\" in /usr/local/lib/python3.8/site-packages (from ipywidgets->fastbook) (7.18.1)\n",
      "Requirement already satisfied: widgetsnbextension~=3.5.0 in /usr/local/lib/python3.8/site-packages (from ipywidgets->fastbook) (3.5.1)\n",
      "Requirement already satisfied: traitlets>=4.3.1 in /usr/local/lib/python3.8/site-packages (from ipywidgets->fastbook) (5.0.4)\n",
      "Requirement already satisfied: future in /usr/local/lib/python3.8/site-packages (from torch>=1.6.0->fastai) (0.18.2)\n",
      "Requirement already satisfied: thinc==7.4.1 in /usr/local/lib/python3.8/site-packages (from spacy->fastai) (7.4.1)\n",
      "Requirement already satisfied: srsly<1.1.0,>=1.0.2 in /usr/local/lib/python3.8/site-packages (from spacy->fastai) (1.0.2)\n",
      "Requirement already satisfied: murmurhash<1.1.0,>=0.28.0 in /usr/local/lib/python3.8/site-packages (from spacy->fastai) (1.0.2)\n",
      "Requirement already satisfied: wasabi<1.1.0,>=0.4.0 in /usr/local/lib/python3.8/site-packages (from spacy->fastai) (0.8.0)\n",
      "Requirement already satisfied: blis<0.5.0,>=0.4.0 in /usr/local/lib/python3.8/site-packages (from spacy->fastai) (0.4.1)\n",
      "Requirement already satisfied: tqdm<5.0.0,>=4.38.0 in /usr/local/lib/python3.8/site-packages (from spacy->fastai) (4.49.0)\n",
      "Requirement already satisfied: preshed<3.1.0,>=3.0.2 in /usr/local/lib/python3.8/site-packages (from spacy->fastai) (3.0.2)\n",
      "Requirement already satisfied: plac<1.2.0,>=0.9.6 in /usr/local/lib/python3.8/site-packages (from spacy->fastai) (1.1.3)\n",
      "Requirement already satisfied: catalogue<1.1.0,>=0.0.7 in /usr/local/lib/python3.8/site-packages (from spacy->fastai) (1.0.0)\n",
      "Requirement already satisfied: cymem<2.1.0,>=2.0.2 in /usr/local/lib/python3.8/site-packages (from spacy->fastai) (2.0.3)\n",
      "Requirement already satisfied: setuptools in /usr/local/lib/python3.8/site-packages (from spacy->fastai) (49.2.0)\n",
      "Requirement already satisfied: joblib>=0.11 in /usr/local/lib/python3.8/site-packages (from scikit-learn->fastai) (0.16.0)\n",
      "Requirement already satisfied: threadpoolctl>=2.0.0 in /usr/local/lib/python3.8/site-packages (from scikit-learn->fastai) (2.1.0)\n",
      "Requirement already satisfied: certifi>=2020.06.20 in /usr/local/lib/python3.8/site-packages (from matplotlib->fastai) (2020.6.20)\n",
      "Requirement already satisfied: kiwisolver>=1.0.1 in /usr/local/lib/python3.8/site-packages (from matplotlib->fastai) (1.2.0)\n",
      "Requirement already satisfied: cycler>=0.10 in /usr/local/lib/python3.8/site-packages (from matplotlib->fastai) (0.10.0)\n",
      "Requirement already satisfied: idna<3,>=2.5 in /usr/local/lib/python3.8/site-packages (from requests->fastai) (2.10)\n",
      "Requirement already satisfied: chardet<4,>=3.0.2 in /usr/local/lib/python3.8/site-packages (from requests->fastai) (3.0.4)\n",
      "Requirement already satisfied: urllib3!=1.25.0,!=1.25.1,<1.26,>=1.21.1 in /usr/local/lib/python3.8/site-packages (from requests->fastai) (1.25.10)\n",
      "Requirement already satisfied: ipython-genutils in /usr/local/lib/python3.8/site-packages (from jupyter-server<2.0.0,>=0.3.0->voila) (0.2.0)\n",
      "Requirement already satisfied: prometheus-client in /usr/local/lib/python3.8/site-packages (from jupyter-server<2.0.0,>=0.3.0->voila) (0.8.0)\n",
      "Requirement already satisfied: terminado>=0.8.3 in /usr/local/lib/python3.8/site-packages (from jupyter-server<2.0.0,>=0.3.0->voila) (0.9.1)\n",
      "Requirement already satisfied: jinja2 in /usr/local/lib/python3.8/site-packages (from jupyter-server<2.0.0,>=0.3.0->voila) (2.11.2)\n",
      "Requirement already satisfied: tornado>=5.0 in /usr/local/lib/python3.8/site-packages (from jupyter-server<2.0.0,>=0.3.0->voila) (6.0.4)\n",
      "Requirement already satisfied: pyzmq>=17 in /usr/local/lib/python3.8/site-packages (from jupyter-server<2.0.0,>=0.3.0->voila) (19.0.2)\n",
      "Requirement already satisfied: jupyter-core>=4.4.0 in /usr/local/lib/python3.8/site-packages (from jupyter-server<2.0.0,>=0.3.0->voila) (4.6.3)\n",
      "Requirement already satisfied: Send2Trash in /usr/local/lib/python3.8/site-packages (from jupyter-server<2.0.0,>=0.3.0->voila) (1.5.0)\n",
      "Requirement already satisfied: nest-asyncio in /usr/local/lib/python3.8/site-packages (from nbclient<0.6,>=0.4.0->voila) (1.4.0)\n",
      "Requirement already satisfied: async-generator in /usr/local/lib/python3.8/site-packages (from nbclient<0.6,>=0.4.0->voila) (1.10)\n",
      "Requirement already satisfied: pandocfilters>=1.4.1 in /usr/local/lib/python3.8/site-packages (from nbconvert<7,>=6.0.0->voila) (1.4.2)\n",
      "Requirement already satisfied: pygments>=2.4.1 in /usr/local/lib/python3.8/site-packages (from nbconvert<7,>=6.0.0->voila) (2.7.1)\n",
      "Requirement already satisfied: defusedxml in /usr/local/lib/python3.8/site-packages (from nbconvert<7,>=6.0.0->voila) (0.6.0)\n",
      "Requirement already satisfied: jupyterlab-pygments in /usr/local/lib/python3.8/site-packages (from nbconvert<7,>=6.0.0->voila) (0.1.1)\n",
      "Requirement already satisfied: entrypoints>=0.2.2 in /usr/local/lib/python3.8/site-packages (from nbconvert<7,>=6.0.0->voila) (0.3)\n",
      "Requirement already satisfied: mistune<2,>=0.8.1 in /usr/local/lib/python3.8/site-packages (from nbconvert<7,>=6.0.0->voila) (0.8.4)\n",
      "Requirement already satisfied: bleach in /usr/local/lib/python3.8/site-packages (from nbconvert<7,>=6.0.0->voila) (3.2.1)\n",
      "Requirement already satisfied: testpath in /usr/local/lib/python3.8/site-packages (from nbconvert<7,>=6.0.0->voila) (0.4.4)\n"
     ]
    },
    {
     "name": "stdout",
     "output_type": "stream",
     "text": [
      "Requirement already satisfied: appnope; platform_system == \"Darwin\" in /usr/local/lib/python3.8/site-packages (from ipykernel->nbdev>=0.2.38->fastbook) (0.1.0)\n",
      "Requirement already satisfied: jsonschema!=2.5.0,>=2.4 in /usr/local/lib/python3.8/site-packages (from nbformat>=4.4.0->nbdev>=0.2.38->fastbook) (3.2.0)\n",
      "Requirement already satisfied: adal<2.0.0,>=0.6.0 in /usr/local/lib/python3.8/site-packages (from msrestazure<2.0.0,>=0.4.32->azure-cognitiveservices-search-imagesearch->fastbook) (1.2.4)\n",
      "Requirement already satisfied: requests-oauthlib>=0.5.0 in /usr/local/lib/python3.8/site-packages (from msrest>=0.5.0->azure-cognitiveservices-search-imagesearch->fastbook) (1.3.0)\n",
      "Requirement already satisfied: isodate>=0.6.0 in /usr/local/lib/python3.8/site-packages (from msrest>=0.5.0->azure-cognitiveservices-search-imagesearch->fastbook) (0.6.0)\n",
      "Requirement already satisfied: prompt-toolkit!=3.0.0,!=3.0.1,<3.1.0,>=2.0.0 in /usr/local/lib/python3.8/site-packages (from ipython>=4.0.0; python_version >= \"3.3\"->ipywidgets->fastbook) (3.0.7)\n",
      "Requirement already satisfied: pexpect>4.3; sys_platform != \"win32\" in /usr/local/lib/python3.8/site-packages (from ipython>=4.0.0; python_version >= \"3.3\"->ipywidgets->fastbook) (4.8.0)\n",
      "Requirement already satisfied: backcall in /usr/local/lib/python3.8/site-packages (from ipython>=4.0.0; python_version >= \"3.3\"->ipywidgets->fastbook) (0.2.0)\n",
      "Requirement already satisfied: jedi>=0.10 in /usr/local/lib/python3.8/site-packages (from ipython>=4.0.0; python_version >= \"3.3\"->ipywidgets->fastbook) (0.17.2)\n",
      "Requirement already satisfied: decorator in /usr/local/lib/python3.8/site-packages (from ipython>=4.0.0; python_version >= \"3.3\"->ipywidgets->fastbook) (4.4.2)\n",
      "Requirement already satisfied: pickleshare in /usr/local/lib/python3.8/site-packages (from ipython>=4.0.0; python_version >= \"3.3\"->ipywidgets->fastbook) (0.7.5)\n",
      "Requirement already satisfied: notebook>=4.4.1 in /usr/local/lib/python3.8/site-packages (from widgetsnbextension~=3.5.0->ipywidgets->fastbook) (6.1.4)\n",
      "Requirement already satisfied: ptyprocess; os_name != \"nt\" in /usr/local/lib/python3.8/site-packages (from terminado>=0.8.3->jupyter-server<2.0.0,>=0.3.0->voila) (0.6.0)\n",
      "Requirement already satisfied: MarkupSafe>=0.23 in /usr/local/lib/python3.8/site-packages (from jinja2->jupyter-server<2.0.0,>=0.3.0->voila) (1.1.1)\n",
      "Requirement already satisfied: webencodings in /usr/local/lib/python3.8/site-packages (from bleach->nbconvert<7,>=6.0.0->voila) (0.5.1)\n",
      "Requirement already satisfied: attrs>=17.4.0 in /usr/local/lib/python3.8/site-packages (from jsonschema!=2.5.0,>=2.4->nbformat>=4.4.0->nbdev>=0.2.38->fastbook) (20.2.0)\n",
      "Requirement already satisfied: pyrsistent>=0.14.0 in /usr/local/lib/python3.8/site-packages (from jsonschema!=2.5.0,>=2.4->nbformat>=4.4.0->nbdev>=0.2.38->fastbook) (0.17.3)\n",
      "Requirement already satisfied: PyJWT>=1.0.0 in /usr/local/lib/python3.8/site-packages (from adal<2.0.0,>=0.6.0->msrestazure<2.0.0,>=0.4.32->azure-cognitiveservices-search-imagesearch->fastbook) (1.7.1)\n",
      "Requirement already satisfied: cryptography>=1.1.0 in /usr/local/lib/python3.8/site-packages (from adal<2.0.0,>=0.6.0->msrestazure<2.0.0,>=0.4.32->azure-cognitiveservices-search-imagesearch->fastbook) (3.1.1)\n",
      "Requirement already satisfied: oauthlib>=3.0.0 in /usr/local/lib/python3.8/site-packages (from requests-oauthlib>=0.5.0->msrest>=0.5.0->azure-cognitiveservices-search-imagesearch->fastbook) (3.1.0)\n",
      "Requirement already satisfied: wcwidth in /usr/local/lib/python3.8/site-packages (from prompt-toolkit!=3.0.0,!=3.0.1,<3.1.0,>=2.0.0->ipython>=4.0.0; python_version >= \"3.3\"->ipywidgets->fastbook) (0.2.5)\n",
      "Requirement already satisfied: parso<0.8.0,>=0.7.0 in /usr/local/lib/python3.8/site-packages (from jedi>=0.10->ipython>=4.0.0; python_version >= \"3.3\"->ipywidgets->fastbook) (0.7.1)\n",
      "Requirement already satisfied: argon2-cffi in /usr/local/lib/python3.8/site-packages (from notebook>=4.4.1->widgetsnbextension~=3.5.0->ipywidgets->fastbook) (20.1.0)\n",
      "Requirement already satisfied: cffi!=1.11.3,>=1.8 in /usr/local/lib/python3.8/site-packages (from cryptography>=1.1.0->adal<2.0.0,>=0.6.0->msrestazure<2.0.0,>=0.4.32->azure-cognitiveservices-search-imagesearch->fastbook) (1.14.3)\n",
      "Requirement already satisfied: pycparser in /usr/local/lib/python3.8/site-packages (from cffi!=1.11.3,>=1.8->cryptography>=1.1.0->adal<2.0.0,>=0.6.0->msrestazure<2.0.0,>=0.4.32->azure-cognitiveservices-search-imagesearch->fastbook) (2.20)\n"
     ]
    }
   ],
   "source": [
    "!{sys.executable} -m pip install fastbook fastai graphviz voila"
   ]
  },
  {
   "cell_type": "code",
   "execution_count": 4,
   "metadata": {},
   "outputs": [
    {
     "name": "stdout",
     "output_type": "stream",
     "text": [
      "Enabling: voila\n",
      "- Writing config: /usr/local/Cellar/python@3.8/3.8.5/Frameworks/Python.framework/Versions/3.8/etc/jupyter\n",
      "    - Validating...\n",
      "      voila 0.2.3 \u001b[32mOK\u001b[0m\n"
     ]
    }
   ],
   "source": [
    "!{sys.executable} -m jupyter serverextension enable voila --sys-prefix"
   ]
  },
  {
   "cell_type": "code",
   "execution_count": 5,
   "metadata": {},
   "outputs": [],
   "source": [
    "from fastbook import *"
   ]
  },
  {
   "cell_type": "code",
   "execution_count": 6,
   "metadata": {},
   "outputs": [],
   "source": [
    "from fastai.vision.widgets import *"
   ]
  },
  {
   "cell_type": "code",
   "execution_count": 7,
   "metadata": {},
   "outputs": [
    {
     "data": {
      "text/plain": [
       "(#6) [Path('requirements.txt'),Path('export.pkl'),Path('README.md'),Path('.ipynb_checkpoints'),Path('.git'),Path('bear_classifier.ipynb')]"
      ]
     },
     "execution_count": 7,
     "metadata": {},
     "output_type": "execute_result"
    }
   ],
   "source": [
    "path = Path()\n",
    "path.ls()"
   ]
  },
  {
   "cell_type": "code",
   "execution_count": 8,
   "metadata": {},
   "outputs": [],
   "source": [
    "learn_inf = load_learner(path/'export.pkl')"
   ]
  },
  {
   "cell_type": "code",
   "execution_count": 9,
   "metadata": {},
   "outputs": [],
   "source": [
    "#hide_output\n",
    "btn_run = widgets.Button(description='Classify')"
   ]
  },
  {
   "cell_type": "code",
   "execution_count": 10,
   "metadata": {},
   "outputs": [],
   "source": [
    "def on_click_classify(change):\n",
    "    img = PILImage.create(btn_upload.data[-1])\n",
    "    out_pl.clear_output()\n",
    "    with out_pl: display(img.to_thumb(128,128))\n",
    "    pred,pred_idx,probs = learn_inf.predict(img)\n",
    "    lbl_pred.value = f'Prediction: {pred}; Probability: {probs[pred_idx]:.04f}'\n",
    "\n",
    "btn_run.on_click(on_click_classify)"
   ]
  },
  {
   "cell_type": "code",
   "execution_count": 11,
   "metadata": {},
   "outputs": [],
   "source": [
    "#hide_output\n",
    "btn_upload = widgets.FileUpload()"
   ]
  },
  {
   "cell_type": "code",
   "execution_count": 12,
   "metadata": {},
   "outputs": [],
   "source": [
    "#hide_output\n",
    "out_pl = widgets.Output()"
   ]
  },
  {
   "cell_type": "code",
   "execution_count": 13,
   "metadata": {},
   "outputs": [],
   "source": [
    "#hide_output\n",
    "lbl_pred = widgets.Label()"
   ]
  },
  {
   "cell_type": "code",
   "execution_count": 14,
   "metadata": {},
   "outputs": [
    {
     "data": {
      "application/vnd.jupyter.widget-view+json": {
       "model_id": "99f10d13c7f94d57bef2f9ecb26fed28",
       "version_major": 2,
       "version_minor": 0
      },
      "text/plain": [
       "VBox(children=(Label(value='Select your bear!'), FileUpload(value={}, description='Upload'), Button(descriptio…"
      ]
     },
     "metadata": {},
     "output_type": "display_data"
    },
    {
     "data": {
      "text/html": [],
      "text/plain": [
       "<IPython.core.display.HTML object>"
      ]
     },
     "metadata": {},
     "output_type": "display_data"
    },
    {
     "data": {
      "text/html": [],
      "text/plain": [
       "<IPython.core.display.HTML object>"
      ]
     },
     "metadata": {},
     "output_type": "display_data"
    },
    {
     "data": {
      "text/html": [],
      "text/plain": [
       "<IPython.core.display.HTML object>"
      ]
     },
     "metadata": {},
     "output_type": "display_data"
    },
    {
     "data": {
      "text/html": [],
      "text/plain": [
       "<IPython.core.display.HTML object>"
      ]
     },
     "metadata": {},
     "output_type": "display_data"
    },
    {
     "data": {
      "text/html": [],
      "text/plain": [
       "<IPython.core.display.HTML object>"
      ]
     },
     "metadata": {},
     "output_type": "display_data"
    },
    {
     "data": {
      "text/html": [],
      "text/plain": [
       "<IPython.core.display.HTML object>"
      ]
     },
     "metadata": {},
     "output_type": "display_data"
    }
   ],
   "source": [
    "VBox([widgets.Label('Select your bear!'), \n",
    "      btn_upload, btn_run, out_pl, lbl_pred])"
   ]
  }
 ],
 "metadata": {
  "kernelspec": {
   "display_name": "Python 3",
   "language": "python",
   "name": "python3"
  },
  "language_info": {
   "codemirror_mode": {
    "name": "ipython",
    "version": 3
   },
   "file_extension": ".py",
   "mimetype": "text/x-python",
   "name": "python",
   "nbconvert_exporter": "python",
   "pygments_lexer": "ipython3",
   "version": "3.8.5"
  }
 },
 "nbformat": 4,
 "nbformat_minor": 4
}
